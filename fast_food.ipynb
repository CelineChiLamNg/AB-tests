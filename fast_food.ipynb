{
 "cells": [
  {
   "metadata": {},
   "cell_type": "markdown",
   "source": [
    "<h1><center>Fast Food Marketing Campaign</center></h1>\n",
    "<center>May 2024</center>\n",
    "<center>Celine Ng</center>"
   ],
   "id": "32062452ac27a7db"
  },
  {
   "metadata": {},
   "cell_type": "markdown",
   "source": [
    "<a id=\"0\"></a> <br>\n",
    "# Table of Contents\n",
    "\n",
    "1. [Project Introduction](#1)     \n",
    "    1. [Libraries Installation](#2) \n",
    "    1. [Data Retrieval](#3)\n",
    "    1. [Data Cleaning](#4)\n",
    "1. [EDA](#5) \n",
    "    1. [Quick Visualization](#6)\n",
    "        1. [Summary](#7)\n",
    "1. [Assumption Checking](#7) \n",
    "1. [Create a Validation Set](#4)     \n",
    "    1. [Remove target column](#5) \n",
    "1. [Feature Scaling](#6)     \n",
    "1. [First Model](#8)     \n",
    "    1. [Evaluation Metrics for Training set](#9)     \n",
    "    1. [Evaluation Metrics for Validation set](#10)     \n",
    "    1. [First Submission](#11) \n",
    "1. [Selecting Models](#12)       \n",
    "    1. [Helper Functions to Try New Models](#13)      \n",
    "    1. [Split to the Small Data for Evaluating Models Fast](#14)     \n",
    "    1. [ML Models](#15)         \n",
    "        1. [XGBoost](#16)             \n",
    "            1. [Training](#17)\n"
   ],
   "id": "f660428273d34e74"
  },
  {
   "metadata": {},
   "cell_type": "markdown",
   "source": [
    "<a id=\"1\"></a> <br>\n",
    "# 1. Project Introduction"
   ],
   "id": "36588d4338d6d661"
  },
  {
   "metadata": {},
   "cell_type": "markdown",
   "source": [
    "### Goal\n",
    "The fast-food chain tested out 3 promotions in several store and <br>\n",
    "the data records sales in the initial 4 weeks of the new promotion. <br>\n",
    "Apply A/B test to understand which of the 3 campaigns is the most effective."
   ],
   "id": "5199d8b6e6982c12"
  },
  {
   "metadata": {},
   "cell_type": "markdown",
   "source": [
    "<a id=\"2\"></a> <br>\n",
    "## 1.1 Libraries Installation"
   ],
   "id": "91ca03f9392e0a00"
  },
  {
   "metadata": {
    "ExecuteTime": {
     "end_time": "2024-05-21T15:32:42.882815Z",
     "start_time": "2024-05-21T15:32:42.041895Z"
    }
   },
   "cell_type": "code",
   "source": [
    "%%capture\n",
    "%pip install -r requirements.txt"
   ],
   "id": "e4ebfa73fd25b9e6",
   "outputs": [],
   "execution_count": 5
  },
  {
   "metadata": {
    "ExecuteTime": {
     "end_time": "2024-05-21T15:35:42.037382Z",
     "start_time": "2024-05-21T15:35:42.034012Z"
    }
   },
   "cell_type": "code",
   "source": [
    "import pandas as pd\n",
    "import matplotlib.pyplot as plt\n",
    "import seaborn as sns\n",
    "import scipy.stats as stats\n",
    "import scikit_posthocs as sp"
   ],
   "id": "2adc037311cfe3f1",
   "outputs": [],
   "execution_count": 8
  },
  {
   "metadata": {},
   "cell_type": "markdown",
   "source": [
    "<a id=\"3\"></a> <br>\n",
    "## 1.2 Data Retrieval"
   ],
   "id": "59bbbc97fdde93c1"
  },
  {
   "metadata": {
    "ExecuteTime": {
     "end_time": "2024-05-21T15:37:47.485674Z",
     "start_time": "2024-05-21T15:37:47.479543Z"
    }
   },
   "cell_type": "code",
   "source": "fastfood = pd.read_csv('dataset/fast_food.csv')",
   "id": "6d17df4ff53c6b9f",
   "outputs": [],
   "execution_count": 11
  },
  {
   "metadata": {
    "ExecuteTime": {
     "end_time": "2024-05-21T15:37:53.940391Z",
     "start_time": "2024-05-21T15:37:53.930968Z"
    }
   },
   "cell_type": "code",
   "source": "fastfood.head()",
   "id": "aa7dbde7a17f4673",
   "outputs": [
    {
     "data": {
      "text/plain": [
       "   MarketID MarketSize  LocationID  AgeOfStore  Promotion  week  \\\n",
       "0         1     Medium           1           4          3     1   \n",
       "1         1     Medium           1           4          3     2   \n",
       "2         1     Medium           1           4          3     3   \n",
       "3         1     Medium           1           4          3     4   \n",
       "4         1     Medium           2           5          2     1   \n",
       "\n",
       "   SalesInThousands  \n",
       "0             33.73  \n",
       "1             35.67  \n",
       "2             29.03  \n",
       "3             39.25  \n",
       "4             27.81  "
      ],
      "text/html": [
       "<div>\n",
       "<style scoped>\n",
       "    .dataframe tbody tr th:only-of-type {\n",
       "        vertical-align: middle;\n",
       "    }\n",
       "\n",
       "    .dataframe tbody tr th {\n",
       "        vertical-align: top;\n",
       "    }\n",
       "\n",
       "    .dataframe thead th {\n",
       "        text-align: right;\n",
       "    }\n",
       "</style>\n",
       "<table border=\"1\" class=\"dataframe\">\n",
       "  <thead>\n",
       "    <tr style=\"text-align: right;\">\n",
       "      <th></th>\n",
       "      <th>MarketID</th>\n",
       "      <th>MarketSize</th>\n",
       "      <th>LocationID</th>\n",
       "      <th>AgeOfStore</th>\n",
       "      <th>Promotion</th>\n",
       "      <th>week</th>\n",
       "      <th>SalesInThousands</th>\n",
       "    </tr>\n",
       "  </thead>\n",
       "  <tbody>\n",
       "    <tr>\n",
       "      <th>0</th>\n",
       "      <td>1</td>\n",
       "      <td>Medium</td>\n",
       "      <td>1</td>\n",
       "      <td>4</td>\n",
       "      <td>3</td>\n",
       "      <td>1</td>\n",
       "      <td>33.73</td>\n",
       "    </tr>\n",
       "    <tr>\n",
       "      <th>1</th>\n",
       "      <td>1</td>\n",
       "      <td>Medium</td>\n",
       "      <td>1</td>\n",
       "      <td>4</td>\n",
       "      <td>3</td>\n",
       "      <td>2</td>\n",
       "      <td>35.67</td>\n",
       "    </tr>\n",
       "    <tr>\n",
       "      <th>2</th>\n",
       "      <td>1</td>\n",
       "      <td>Medium</td>\n",
       "      <td>1</td>\n",
       "      <td>4</td>\n",
       "      <td>3</td>\n",
       "      <td>3</td>\n",
       "      <td>29.03</td>\n",
       "    </tr>\n",
       "    <tr>\n",
       "      <th>3</th>\n",
       "      <td>1</td>\n",
       "      <td>Medium</td>\n",
       "      <td>1</td>\n",
       "      <td>4</td>\n",
       "      <td>3</td>\n",
       "      <td>4</td>\n",
       "      <td>39.25</td>\n",
       "    </tr>\n",
       "    <tr>\n",
       "      <th>4</th>\n",
       "      <td>1</td>\n",
       "      <td>Medium</td>\n",
       "      <td>2</td>\n",
       "      <td>5</td>\n",
       "      <td>2</td>\n",
       "      <td>1</td>\n",
       "      <td>27.81</td>\n",
       "    </tr>\n",
       "  </tbody>\n",
       "</table>\n",
       "</div>"
      ]
     },
     "execution_count": 12,
     "metadata": {},
     "output_type": "execute_result"
    }
   ],
   "execution_count": 12
  },
  {
   "metadata": {},
   "cell_type": "markdown",
   "source": [
    "<a id=\"4\"></a> <br>\n",
    "## 1.3 Data Cleaning"
   ],
   "id": "f0f3ed72008d1046"
  },
  {
   "metadata": {},
   "cell_type": "markdown",
   "source": "1. Check for missing values",
   "id": "386976bfd7e3312a"
  },
  {
   "metadata": {
    "ExecuteTime": {
     "end_time": "2024-05-21T15:49:26.464118Z",
     "start_time": "2024-05-21T15:49:26.460336Z"
    }
   },
   "cell_type": "code",
   "source": "fastfood.isna().any().any()",
   "id": "1a0cfd542ee44a6b",
   "outputs": [
    {
     "data": {
      "text/plain": [
       "False"
      ]
     },
     "execution_count": 14,
     "metadata": {},
     "output_type": "execute_result"
    }
   ],
   "execution_count": 14
  },
  {
   "metadata": {},
   "cell_type": "markdown",
   "source": "2. Check for duplicates ",
   "id": "8846c3142bf6b50"
  },
  {
   "metadata": {
    "ExecuteTime": {
     "end_time": "2024-05-21T15:50:35.303426Z",
     "start_time": "2024-05-21T15:50:35.298970Z"
    }
   },
   "cell_type": "code",
   "source": "fastfood.duplicated().any()",
   "id": "7e87af59324c3c39",
   "outputs": [
    {
     "data": {
      "text/plain": [
       "False"
      ]
     },
     "execution_count": 16,
     "metadata": {},
     "output_type": "execute_result"
    }
   ],
   "execution_count": 16
  },
  {
   "metadata": {},
   "cell_type": "markdown",
   "source": [
    "<a id=\"5\"></a> <br>\n",
    "# 2. EDA"
   ],
   "id": "b3c3b5d81b94f5a6"
  },
  {
   "metadata": {},
   "cell_type": "markdown",
   "source": [
    "<a id=\"6\"></a> <br>\n",
    "## 2.1 Quick Visualization\n",
    "\n",
    "Objective:\n",
    "Briefly understand our data and its distribution"
   ],
   "id": "3c11e1bd64f84e68"
  },
  {
   "metadata": {},
   "cell_type": "markdown",
   "source": "1. Rows and columns of our dataset",
   "id": "9c6d4c7483a62777"
  },
  {
   "metadata": {
    "ExecuteTime": {
     "end_time": "2024-05-22T11:43:33.031316Z",
     "start_time": "2024-05-22T11:43:33.023916Z"
    }
   },
   "cell_type": "code",
   "source": "fastfood.shape",
   "id": "c23146384c7a0a1c",
   "outputs": [
    {
     "data": {
      "text/plain": [
       "(548, 7)"
      ]
     },
     "execution_count": 17,
     "metadata": {},
     "output_type": "execute_result"
    }
   ],
   "execution_count": 17
  },
  {
   "metadata": {},
   "cell_type": "markdown",
   "source": "2. Dataset descriptive statistics overview",
   "id": "345abe1e3ac3834c"
  },
  {
   "metadata": {
    "ExecuteTime": {
     "end_time": "2024-05-22T11:47:05.181727Z",
     "start_time": "2024-05-22T11:47:05.166973Z"
    }
   },
   "cell_type": "code",
   "source": "fastfood.describe()",
   "id": "80d74fb8b027a8dd",
   "outputs": [
    {
     "data": {
      "text/plain": [
       "         MarketID  LocationID  AgeOfStore   Promotion        week  \\\n",
       "count  548.000000  548.000000  548.000000  548.000000  548.000000   \n",
       "mean     5.715328  479.656934    8.503650    2.029197    2.500000   \n",
       "std      2.877001  287.973679    6.638345    0.810729    1.119055   \n",
       "min      1.000000    1.000000    1.000000    1.000000    1.000000   \n",
       "25%      3.000000  216.000000    4.000000    1.000000    1.750000   \n",
       "50%      6.000000  504.000000    7.000000    2.000000    2.500000   \n",
       "75%      8.000000  708.000000   12.000000    3.000000    3.250000   \n",
       "max     10.000000  920.000000   28.000000    3.000000    4.000000   \n",
       "\n",
       "       SalesInThousands  \n",
       "count        548.000000  \n",
       "mean          53.466204  \n",
       "std           16.755216  \n",
       "min           17.340000  \n",
       "25%           42.545000  \n",
       "50%           50.200000  \n",
       "75%           60.477500  \n",
       "max           99.650000  "
      ],
      "text/html": [
       "<div>\n",
       "<style scoped>\n",
       "    .dataframe tbody tr th:only-of-type {\n",
       "        vertical-align: middle;\n",
       "    }\n",
       "\n",
       "    .dataframe tbody tr th {\n",
       "        vertical-align: top;\n",
       "    }\n",
       "\n",
       "    .dataframe thead th {\n",
       "        text-align: right;\n",
       "    }\n",
       "</style>\n",
       "<table border=\"1\" class=\"dataframe\">\n",
       "  <thead>\n",
       "    <tr style=\"text-align: right;\">\n",
       "      <th></th>\n",
       "      <th>MarketID</th>\n",
       "      <th>LocationID</th>\n",
       "      <th>AgeOfStore</th>\n",
       "      <th>Promotion</th>\n",
       "      <th>week</th>\n",
       "      <th>SalesInThousands</th>\n",
       "    </tr>\n",
       "  </thead>\n",
       "  <tbody>\n",
       "    <tr>\n",
       "      <th>count</th>\n",
       "      <td>548.000000</td>\n",
       "      <td>548.000000</td>\n",
       "      <td>548.000000</td>\n",
       "      <td>548.000000</td>\n",
       "      <td>548.000000</td>\n",
       "      <td>548.000000</td>\n",
       "    </tr>\n",
       "    <tr>\n",
       "      <th>mean</th>\n",
       "      <td>5.715328</td>\n",
       "      <td>479.656934</td>\n",
       "      <td>8.503650</td>\n",
       "      <td>2.029197</td>\n",
       "      <td>2.500000</td>\n",
       "      <td>53.466204</td>\n",
       "    </tr>\n",
       "    <tr>\n",
       "      <th>std</th>\n",
       "      <td>2.877001</td>\n",
       "      <td>287.973679</td>\n",
       "      <td>6.638345</td>\n",
       "      <td>0.810729</td>\n",
       "      <td>1.119055</td>\n",
       "      <td>16.755216</td>\n",
       "    </tr>\n",
       "    <tr>\n",
       "      <th>min</th>\n",
       "      <td>1.000000</td>\n",
       "      <td>1.000000</td>\n",
       "      <td>1.000000</td>\n",
       "      <td>1.000000</td>\n",
       "      <td>1.000000</td>\n",
       "      <td>17.340000</td>\n",
       "    </tr>\n",
       "    <tr>\n",
       "      <th>25%</th>\n",
       "      <td>3.000000</td>\n",
       "      <td>216.000000</td>\n",
       "      <td>4.000000</td>\n",
       "      <td>1.000000</td>\n",
       "      <td>1.750000</td>\n",
       "      <td>42.545000</td>\n",
       "    </tr>\n",
       "    <tr>\n",
       "      <th>50%</th>\n",
       "      <td>6.000000</td>\n",
       "      <td>504.000000</td>\n",
       "      <td>7.000000</td>\n",
       "      <td>2.000000</td>\n",
       "      <td>2.500000</td>\n",
       "      <td>50.200000</td>\n",
       "    </tr>\n",
       "    <tr>\n",
       "      <th>75%</th>\n",
       "      <td>8.000000</td>\n",
       "      <td>708.000000</td>\n",
       "      <td>12.000000</td>\n",
       "      <td>3.000000</td>\n",
       "      <td>3.250000</td>\n",
       "      <td>60.477500</td>\n",
       "    </tr>\n",
       "    <tr>\n",
       "      <th>max</th>\n",
       "      <td>10.000000</td>\n",
       "      <td>920.000000</td>\n",
       "      <td>28.000000</td>\n",
       "      <td>3.000000</td>\n",
       "      <td>4.000000</td>\n",
       "      <td>99.650000</td>\n",
       "    </tr>\n",
       "  </tbody>\n",
       "</table>\n",
       "</div>"
      ]
     },
     "execution_count": 18,
     "metadata": {},
     "output_type": "execute_result"
    }
   ],
   "execution_count": 18
  },
  {
   "metadata": {},
   "cell_type": "markdown",
   "source": "3. How many MarketID and LocationID?",
   "id": "e45e550b4780c22c"
  },
  {
   "metadata": {
    "ExecuteTime": {
     "end_time": "2024-05-22T11:55:17.506353Z",
     "start_time": "2024-05-22T11:55:17.501126Z"
    }
   },
   "cell_type": "code",
   "source": "fastfood['MarketID'].nunique()",
   "id": "5fd4ad24e4d633f0",
   "outputs": [
    {
     "data": {
      "text/plain": [
       "10"
      ]
     },
     "execution_count": 21,
     "metadata": {},
     "output_type": "execute_result"
    }
   ],
   "execution_count": 21
  },
  {
   "metadata": {
    "ExecuteTime": {
     "end_time": "2024-05-22T11:55:42.322653Z",
     "start_time": "2024-05-22T11:55:42.317211Z"
    }
   },
   "cell_type": "code",
   "source": "fastfood['LocationID'].nunique()",
   "id": "abcbf1c631768e2f",
   "outputs": [
    {
     "data": {
      "text/plain": [
       "137"
      ]
     },
     "execution_count": 23,
     "metadata": {},
     "output_type": "execute_result"
    }
   ],
   "execution_count": 23
  },
  {
   "metadata": {},
   "cell_type": "markdown",
   "source": "4. Visualize dataset features",
   "id": "fe5fb51ccf487de8"
  },
  {
   "metadata": {
    "ExecuteTime": {
     "end_time": "2024-05-22T22:51:33.486248Z",
     "start_time": "2024-05-22T22:51:33.475702Z"
    }
   },
   "cell_type": "code",
   "source": [
    "fastfood1 = fastfood[fastfood.Promotion == 1]\n",
    "fastfood2 = fastfood[fastfood.Promotion == 2]\n",
    "fastfood3 = fastfood[fastfood.Promotion == 3]"
   ],
   "id": "66a7c1dfd1efdc73",
   "outputs": [],
   "execution_count": 104
  },
  {
   "metadata": {
    "ExecuteTime": {
     "end_time": "2024-05-22T22:23:43.327037Z",
     "start_time": "2024-05-22T22:23:43.235349Z"
    }
   },
   "cell_type": "code",
   "source": [
    "columns_to_plot = [col for col in fastfood.columns if col in ['MarketID', \n",
    "                                                              'MarketSize']]\n",
    "\n",
    "fig, ax = plt.subplots(nrows=1, ncols=2, figsize=(10, 3))\n",
    "fig.subplots_adjust(hspace=0.3, wspace=0.4)\n",
    "\n",
    "for i, col in enumerate(columns_to_plot):\n",
    "    sns.countplot(x=col, data=fastfood, ax=ax[i])\n",
    "\n",
    "sns.despine(top=True, right=True, left=False, bottom=False)\n",
    "\n",
    "fig.suptitle('Fast Food MarketID and MarketSize')\n",
    "\n",
    "plt.show()"
   ],
   "id": "de43bcc9778960",
   "outputs": [
    {
     "data": {
      "text/plain": [
       "<Figure size 1000x300 with 2 Axes>"
      ],
      "image/png": "[encoded data removed]"
     },
     "metadata": {},
     "output_type": "display_data"
    }
   ],
   "execution_count": 103
  },
  {
   "metadata": {},
   "cell_type": "code",
   "outputs": [],
   "execution_count": null,
   "source": [
    "def stacked_bar_plot(df, col, hue, color=None, title=None, xlabel=None, \n",
    "                     ylabel=None):\n",
    "    n_hue = len(df[hue].unique())\n",
    "    if color is None: color = sns.color_palette('deep', n_colors=n_hue)\n",
    "    if title is None: title = col\n",
    "    if xlabel is None: xlabel = col\n",
    "    if ylabel is None: ylabel = 'count'\n",
    "    \n",
    "    x = df[col].unique()\n",
    "    \n",
    "    for i in range(n_hue):\n",
    "        \n",
    "    df1 = df.groupby(hue)[col].count()\n",
    "    "
   ],
   "id": "bfdd10220ae1804f"
  },
  {
   "metadata": {
    "ExecuteTime": {
     "end_time": "2024-05-22T23:03:05.570697Z",
     "start_time": "2024-05-22T23:03:05.565959Z"
    }
   },
   "cell_type": "code",
   "source": "fastfood1.groupby(['MarketID']).MarketID.count().to_list()",
   "id": "5eb531f6706640c",
   "outputs": [
    {
     "data": {
      "text/plain": [
       "[20, 4, 28, 16, 8, 20, 16, 20, 12, 28]"
      ]
     },
     "execution_count": 112,
     "metadata": {},
     "output_type": "execute_result"
    }
   ],
   "execution_count": 112
  },
  {
   "metadata": {},
   "cell_type": "code",
   "outputs": [],
   "execution_count": null,
   "source": [
    "x = fastfood['MarketID'].unique()\n",
    "y1 = fastfood1.groupby(['MarketID']).MarketID.size().to_list()\n",
    "y2 = fastfood2.groupby(['MarketID']).MarketID.size().to_list()\n",
    "\n",
    "plt.figure(figsize=(6, 3))\n",
    "\n",
    "\n",
    "\n",
    "\n",
    "x = ['A', 'B', 'C', 'D']\n",
    "y1 = np.array([10, 20, 10, 30])\n",
    "y2 = np.array([20, 25, 15, 25])\n",
    "y3 = np.array([12, 15, 19, 6])\n",
    "y4 = np.array([10, 29, 13, 19])"
   ],
   "id": "4035e67825ecbd4b"
  },
  {
   "metadata": {
    "ExecuteTime": {
     "end_time": "2024-05-22T22:22:19.306043Z",
     "start_time": "2024-05-22T22:22:19.218600Z"
    }
   },
   "cell_type": "code",
   "source": [
    "plt.figure(figsize=(6, 3))\n",
    "sns.countplot(x='AgeOfStore', data=fastfood)\n",
    "sns.despine(top=True, right=True, left=False, bottom=False)\n",
    "plt.xlabel('Age in Years')\n",
    "plt.title('Age Of Store')\n",
    "plt.show()"
   ],
   "id": "fd2e32f8ffecb03a",
   "outputs": [
    {
     "data": {
      "text/plain": [
       "<Figure size 600x300 with 1 Axes>"
      ],
      "image/png": "[encoded data removed]"
     },
     "metadata": {},
     "output_type": "display_data"
    }
   ],
   "execution_count": 100
  },
  {
   "metadata": {
    "ExecuteTime": {
     "end_time": "2024-05-22T16:43:57.984751Z",
     "start_time": "2024-05-22T16:43:57.931739Z"
    }
   },
   "cell_type": "code",
   "source": [
    "plt.figure(figsize=(6, 3))\n",
    "ax = sns.countplot(x='Promotion', data=fastfood)\n",
    "\n",
    "for p in ax.patches:\n",
    "    ax.annotate(f'{int(p.get_height())}', (p.get_x() + p.get_width() / 2., p\n",
    "                                           .get_height()), \n",
    "                ha='center', va='center', xytext=(0, 10), textcoords='offset'\n",
    "                                                                     ' points')\n",
    "    \n",
    "sns.despine(top=True, right=True, left=True, bottom=True)\n",
    "ax.tick_params(axis='x', which='both', length=0, labelbottom=True)\n",
    "ax.tick_params(axis='y', which='both', length=0, labelleft=False)\n",
    "ax.set(ylabel=None)\n",
    "\n",
    "plt.title('Promotion Campaigns', pad=20)\n",
    "plt.show()"
   ],
   "id": "e55563b427368239",
   "outputs": [
    {
     "data": {
      "text/plain": [
       "<Figure size 600x300 with 1 Axes>"
      ],
      "image/png": "[encoded data removed]"
     },
     "metadata": {},
     "output_type": "display_data"
    }
   ],
   "execution_count": 87
  },
  {
   "metadata": {
    "ExecuteTime": {
     "end_time": "2024-05-22T22:22:57.270196Z",
     "start_time": "2024-05-22T22:22:57.199468Z"
    }
   },
   "cell_type": "code",
   "source": [
    "plt.figure(figsize=(6, 3))\n",
    "sns.histplot(data=fastfood, x='SalesInThousands', bins=30, kde_kws={'shade':\n",
    "                                                                        True})\n",
    "sns.despine(top=True, right=True, left=False, bottom=False)\n",
    "plt.xlabel('Sales In Thousands')\n",
    "plt.title('Sales In Thousands\\n(specific LocationID, Promotion, and week)', \n",
    "          pad=15)\n",
    "plt.show()"
   ],
   "id": "e0f5e72c9e74427c",
   "outputs": [
    {
     "data": {
      "text/plain": [
       "<Figure size 600x300 with 1 Axes>"
      ],
      "image/png": "[encoded data removed]"
     },
     "metadata": {},
     "output_type": "display_data"
    }
   ],
   "execution_count": 102
  },
  {
   "metadata": {},
   "cell_type": "markdown",
   "source": [
    "<a id=\"7\"></a> <br>\n",
    "## 2.1.1 Summary"
   ],
   "id": "3e4201504d4017bb"
  },
  {
   "metadata": {},
   "cell_type": "markdown",
   "source": [
    "Our dataset is composed by sales data of the 3 promotions, registered across\n",
    " <br>\n",
    "10 unique markets and 137 store locations. <br>\n",
    "Our sample shows that most markets are medium, with 50% of stores are less <br>\n",
    "than 7 years old. Median sales are around 50 000 and all 3 promotion <br>\n",
    "campaigns were tested similar amounts of times, with 172 for promotion 1 and\n",
    " <br>\n",
    " 188 for promotions 2 and 3. <br>"
   ],
   "id": "78f23267a4f81574"
  },
  {
   "metadata": {},
   "cell_type": "markdown",
   "source": [
    "<a id=\"8\"></a> <br>\n",
    "## 2.2 Separate by Promotion\n",
    "\n",
    "Objective: "
   ],
   "id": "59b7f2fdf74d0e28"
  },
  {
   "metadata": {},
   "cell_type": "markdown",
   "source": "1. Create one dataframe for each promotion",
   "id": "194d50c0ab6f42de"
  },
  {
   "metadata": {
    "ExecuteTime": {
     "end_time": "2024-05-22T22:20:31.878582Z",
     "start_time": "2024-05-22T22:20:31.869568Z"
    }
   },
   "cell_type": "code",
   "source": [
    "fastfood1 = fastfood[fastfood.Promotion == 1]\n",
    "fastfood2 = fastfood[fastfood.Promotion == 2]\n",
    "fastfood3 = fastfood[fastfood.Promotion == 3]\n",
    "\n",
    "fastfood1"
   ],
   "id": "1070c35c152a2d2d",
   "outputs": [
    {
     "data": {
      "text/plain": [
       "     MarketID MarketSize  LocationID  AgeOfStore  Promotion  week  \\\n",
       "8           1     Medium           3          12          1     1   \n",
       "9           1     Medium           3          12          1     2   \n",
       "10          1     Medium           3          12          1     3   \n",
       "11          1     Medium           3          12          1     4   \n",
       "24          1     Medium           7          15          1     1   \n",
       "..        ...        ...         ...         ...        ...   ...   \n",
       "539        10      Large         918           6          1     4   \n",
       "540        10      Large         919           2          1     1   \n",
       "541        10      Large         919           2          1     2   \n",
       "542        10      Large         919           2          1     3   \n",
       "543        10      Large         919           2          1     4   \n",
       "\n",
       "     SalesInThousands  \n",
       "8               44.54  \n",
       "9               37.94  \n",
       "10              45.49  \n",
       "11              34.75  \n",
       "24              42.92  \n",
       "..                ...  \n",
       "539             61.63  \n",
       "540             59.87  \n",
       "541             62.99  \n",
       "542             57.20  \n",
       "543             64.34  \n",
       "\n",
       "[172 rows x 7 columns]"
      ],
      "text/html": [
       "<div>\n",
       "<style scoped>\n",
       "    .dataframe tbody tr th:only-of-type {\n",
       "        vertical-align: middle;\n",
       "    }\n",
       "\n",
       "    .dataframe tbody tr th {\n",
       "        vertical-align: top;\n",
       "    }\n",
       "\n",
       "    .dataframe thead th {\n",
       "        text-align: right;\n",
       "    }\n",
       "</style>\n",
       "<table border=\"1\" class=\"dataframe\">\n",
       "  <thead>\n",
       "    <tr style=\"text-align: right;\">\n",
       "      <th></th>\n",
       "      <th>MarketID</th>\n",
       "      <th>MarketSize</th>\n",
       "      <th>LocationID</th>\n",
       "      <th>AgeOfStore</th>\n",
       "      <th>Promotion</th>\n",
       "      <th>week</th>\n",
       "      <th>SalesInThousands</th>\n",
       "    </tr>\n",
       "  </thead>\n",
       "  <tbody>\n",
       "    <tr>\n",
       "      <th>8</th>\n",
       "      <td>1</td>\n",
       "      <td>Medium</td>\n",
       "      <td>3</td>\n",
       "      <td>12</td>\n",
       "      <td>1</td>\n",
       "      <td>1</td>\n",
       "      <td>44.54</td>\n",
       "    </tr>\n",
       "    <tr>\n",
       "      <th>9</th>\n",
       "      <td>1</td>\n",
       "      <td>Medium</td>\n",
       "      <td>3</td>\n",
       "      <td>12</td>\n",
       "      <td>1</td>\n",
       "      <td>2</td>\n",
       "      <td>37.94</td>\n",
       "    </tr>\n",
       "    <tr>\n",
       "      <th>10</th>\n",
       "      <td>1</td>\n",
       "      <td>Medium</td>\n",
       "      <td>3</td>\n",
       "      <td>12</td>\n",
       "      <td>1</td>\n",
       "      <td>3</td>\n",
       "      <td>45.49</td>\n",
       "    </tr>\n",
       "    <tr>\n",
       "      <th>11</th>\n",
       "      <td>1</td>\n",
       "      <td>Medium</td>\n",
       "      <td>3</td>\n",
       "      <td>12</td>\n",
       "      <td>1</td>\n",
       "      <td>4</td>\n",
       "      <td>34.75</td>\n",
       "    </tr>\n",
       "    <tr>\n",
       "      <th>24</th>\n",
       "      <td>1</td>\n",
       "      <td>Medium</td>\n",
       "      <td>7</td>\n",
       "      <td>15</td>\n",
       "      <td>1</td>\n",
       "      <td>1</td>\n",
       "      <td>42.92</td>\n",
       "    </tr>\n",
       "    <tr>\n",
       "      <th>...</th>\n",
       "      <td>...</td>\n",
       "      <td>...</td>\n",
       "      <td>...</td>\n",
       "      <td>...</td>\n",
       "      <td>...</td>\n",
       "      <td>...</td>\n",
       "      <td>...</td>\n",
       "    </tr>\n",
       "    <tr>\n",
       "      <th>539</th>\n",
       "      <td>10</td>\n",
       "      <td>Large</td>\n",
       "      <td>918</td>\n",
       "      <td>6</td>\n",
       "      <td>1</td>\n",
       "      <td>4</td>\n",
       "      <td>61.63</td>\n",
       "    </tr>\n",
       "    <tr>\n",
       "      <th>540</th>\n",
       "      <td>10</td>\n",
       "      <td>Large</td>\n",
       "      <td>919</td>\n",
       "      <td>2</td>\n",
       "      <td>1</td>\n",
       "      <td>1</td>\n",
       "      <td>59.87</td>\n",
       "    </tr>\n",
       "    <tr>\n",
       "      <th>541</th>\n",
       "      <td>10</td>\n",
       "      <td>Large</td>\n",
       "      <td>919</td>\n",
       "      <td>2</td>\n",
       "      <td>1</td>\n",
       "      <td>2</td>\n",
       "      <td>62.99</td>\n",
       "    </tr>\n",
       "    <tr>\n",
       "      <th>542</th>\n",
       "      <td>10</td>\n",
       "      <td>Large</td>\n",
       "      <td>919</td>\n",
       "      <td>2</td>\n",
       "      <td>1</td>\n",
       "      <td>3</td>\n",
       "      <td>57.20</td>\n",
       "    </tr>\n",
       "    <tr>\n",
       "      <th>543</th>\n",
       "      <td>10</td>\n",
       "      <td>Large</td>\n",
       "      <td>919</td>\n",
       "      <td>2</td>\n",
       "      <td>1</td>\n",
       "      <td>4</td>\n",
       "      <td>64.34</td>\n",
       "    </tr>\n",
       "  </tbody>\n",
       "</table>\n",
       "<p>172 rows × 7 columns</p>\n",
       "</div>"
      ]
     },
     "execution_count": 97,
     "metadata": {},
     "output_type": "execute_result"
    }
   ],
   "execution_count": 97
  },
  {
   "metadata": {},
   "cell_type": "code",
   "outputs": [],
   "execution_count": null,
   "source": "",
   "id": "70209c6ab65422e1"
  },
  {
   "metadata": {},
   "cell_type": "markdown",
   "source": [
    "<a id=\"7\"></a> <br>\n",
    "# 3. Assumptions Checking\n",
    "\n",
    "Objective:\n",
    "Simple random sample <br>\n",
    "Large enough sample to approximate our sampling distribution with a normal <br>\n",
    "curve (to use z multiplier...) <br>\n",
    "define large enough as at least ten of each response outcomes <br>"
   ],
   "id": "8fb3f904a26f48c7"
  },
  {
   "metadata": {},
   "cell_type": "code",
   "outputs": [],
   "execution_count": null,
   "source": "",
   "id": "ec94e97fb088127d"
  }
 ],
 "metadata": {
  "kernelspec": {
   "display_name": "Python 3",
   "language": "python",
   "name": "python3"
  },
  "language_info": {
   "codemirror_mode": {
    "name": "ipython",
    "version": 2
   },
   "file_extension": ".py",
   "mimetype": "text/x-python",
   "name": "python",
   "nbconvert_exporter": "python",
   "pygments_lexer": "ipython2",
   "version": "2.7.6"
  }
 },
 "nbformat": 4,
 "nbformat_minor": 5
}
