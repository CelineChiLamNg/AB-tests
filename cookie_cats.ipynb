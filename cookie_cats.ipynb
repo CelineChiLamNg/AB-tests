{
 "cells": [
  {
   "metadata": {},
   "cell_type": "markdown",
   "source": "",
   "id": "15c1bba327ca2fbc"
  },
  {
   "metadata": {},
   "cell_type": "markdown",
   "source": "",
   "id": "eb0198e64b0244cf"
  },
  {
   "metadata": {},
   "cell_type": "markdown",
   "source": [
    "<a id=\"1\"></a> <br>\n",
    "# 1. Notebook Preparation"
   ],
   "id": "6a0a16ecbe1f1913"
  },
  {
   "metadata": {},
   "cell_type": "markdown",
   "source": [
    "<a id=\"2\"></a> <br>\n",
    "## 1.1 Libraries Installation"
   ],
   "id": "6375a86b049410aa"
  },
  {
   "metadata": {
    "ExecuteTime": {
     "end_time": "2024-05-22T14:15:34.626727Z",
     "start_time": "2024-05-22T14:15:33.888161Z"
    }
   },
   "cell_type": "code",
   "source": [
    "%%capture\n",
    "%pip install -r requirements.txt"
   ],
   "id": "2c80641cf9619b1e",
   "outputs": [],
   "execution_count": 1
  },
  {
   "metadata": {
    "ExecuteTime": {
     "end_time": "2024-05-22T14:15:34.641290Z",
     "start_time": "2024-05-22T14:15:34.627774Z"
    }
   },
   "cell_type": "code",
   "source": [
    "import pandas as pd\n",
    "import matplotlib.pyplot as plt\n",
    "import seaborn as sns\n",
    "import scipy.stats as stats\n",
    "import scikit_posthocs as sp"
   ],
   "id": "ae8181f1bb87cb26",
   "outputs": [],
   "execution_count": 2
  },
  {
   "metadata": {},
   "cell_type": "markdown",
   "source": [
    "<a id=\"3\"></a> <br>\n",
    "## 1.2 Data Retrieval"
   ],
   "id": "ced1bdd94c980465"
  },
  {
   "metadata": {
    "ExecuteTime": {
     "end_time": "2024-05-22T14:16:28.262730Z",
     "start_time": "2024-05-22T14:16:28.230435Z"
    }
   },
   "cell_type": "code",
   "source": "cookiecats = pd.read_csv('dataset/cookie_cats.csv')",
   "id": "2d9a39655a87048f",
   "outputs": [],
   "execution_count": 4
  },
  {
   "metadata": {
    "ExecuteTime": {
     "end_time": "2024-05-22T14:16:36.328153Z",
     "start_time": "2024-05-22T14:16:36.317652Z"
    }
   },
   "cell_type": "code",
   "source": "cookiecats.head()",
   "id": "a23e9ef8ebbf7cfe",
   "outputs": [
    {
     "data": {
      "text/plain": [
       "   userid  version  sum_gamerounds  retention_1  retention_7\n",
       "0     116  gate_30               3        False        False\n",
       "1     337  gate_30              38         True        False\n",
       "2     377  gate_40             165         True        False\n",
       "3     483  gate_40               1        False        False\n",
       "4     488  gate_40             179         True         True"
      ],
      "text/html": [
       "<div>\n",
       "<style scoped>\n",
       "    .dataframe tbody tr th:only-of-type {\n",
       "        vertical-align: middle;\n",
       "    }\n",
       "\n",
       "    .dataframe tbody tr th {\n",
       "        vertical-align: top;\n",
       "    }\n",
       "\n",
       "    .dataframe thead th {\n",
       "        text-align: right;\n",
       "    }\n",
       "</style>\n",
       "<table border=\"1\" class=\"dataframe\">\n",
       "  <thead>\n",
       "    <tr style=\"text-align: right;\">\n",
       "      <th></th>\n",
       "      <th>userid</th>\n",
       "      <th>version</th>\n",
       "      <th>sum_gamerounds</th>\n",
       "      <th>retention_1</th>\n",
       "      <th>retention_7</th>\n",
       "    </tr>\n",
       "  </thead>\n",
       "  <tbody>\n",
       "    <tr>\n",
       "      <th>0</th>\n",
       "      <td>116</td>\n",
       "      <td>gate_30</td>\n",
       "      <td>3</td>\n",
       "      <td>False</td>\n",
       "      <td>False</td>\n",
       "    </tr>\n",
       "    <tr>\n",
       "      <th>1</th>\n",
       "      <td>337</td>\n",
       "      <td>gate_30</td>\n",
       "      <td>38</td>\n",
       "      <td>True</td>\n",
       "      <td>False</td>\n",
       "    </tr>\n",
       "    <tr>\n",
       "      <th>2</th>\n",
       "      <td>377</td>\n",
       "      <td>gate_40</td>\n",
       "      <td>165</td>\n",
       "      <td>True</td>\n",
       "      <td>False</td>\n",
       "    </tr>\n",
       "    <tr>\n",
       "      <th>3</th>\n",
       "      <td>483</td>\n",
       "      <td>gate_40</td>\n",
       "      <td>1</td>\n",
       "      <td>False</td>\n",
       "      <td>False</td>\n",
       "    </tr>\n",
       "    <tr>\n",
       "      <th>4</th>\n",
       "      <td>488</td>\n",
       "      <td>gate_40</td>\n",
       "      <td>179</td>\n",
       "      <td>True</td>\n",
       "      <td>True</td>\n",
       "    </tr>\n",
       "  </tbody>\n",
       "</table>\n",
       "</div>"
      ]
     },
     "execution_count": 5,
     "metadata": {},
     "output_type": "execute_result"
    }
   ],
   "execution_count": 5
  },
  {
   "metadata": {},
   "cell_type": "code",
   "outputs": [],
   "execution_count": null,
   "source": [
    "columns_to_plot = [col for col in fastfood.columns if col in ['MarketID', 'MarketSize', 'AgeOfStore']]\n",
    "\n",
    "fig, ax = plt.subplots(nrows=1, ncols=3, figsize=(14, 3))\n",
    "fig.subplots_adjust(hspace=0.3, wspace=0.2)\n",
    "\n",
    "for i, col in enumerate(columns_to_plot):\n",
    "    sns.countplot(x=col, data=fastfood, ax=ax[i])\n",
    "\n",
    "fig.suptitle('Fast Food Data')\n",
    "\n",
    "plt.show()"
   ],
   "id": "1e89acda52571150"
  }
 ],
 "metadata": {
  "kernelspec": {
   "display_name": "Python 3",
   "language": "python",
   "name": "python3"
  },
  "language_info": {
   "codemirror_mode": {
    "name": "ipython",
    "version": 2
   },
   "file_extension": ".py",
   "mimetype": "text/x-python",
   "name": "python",
   "nbconvert_exporter": "python",
   "pygments_lexer": "ipython2",
   "version": "2.7.6"
  }
 },
 "nbformat": 4,
 "nbformat_minor": 5
}
