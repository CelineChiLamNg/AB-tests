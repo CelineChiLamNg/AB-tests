{
 "cells": [
  {
   "metadata": {},
   "cell_type": "markdown",
   "source": [
    "<h1><center>Cookie Cats Mobile Games</center></h1>\n",
    "<center>May 2024</center>\n",
    "<center>Celine Ng</center>"
   ],
   "id": "15c1bba327ca2fbc"
  },
  {
   "metadata": {},
   "cell_type": "markdown",
   "source": [
    "a id=\"0\"></a> <br>\n",
    "# Table of Contents\n",
    "\n",
    "1. [Project Introduction](#1)     \n",
    "    1. [Libraries Installation](#2) \n",
    "    1. [Data Retrieval](#3)\n",
    "    1. [Data Cleaning](#4)\n",
    "1. [EDA](#5) \n",
    "    1. [Quick Visualization](#6)\n",
    "        1. [Summary](#7)\n",
    "1. [Assumption Checking](#7) \n",
    "1. [Create a Validation Set](#4)     \n",
    "    1. [Remove target column](#5) \n",
    "1. [Feature Scaling](#6)     \n",
    "1. [First Model](#8)     \n",
    "    1. [Evaluation Metrics for Training set](#9)     \n",
    "    1. [Evaluation Metrics for Validation set](#10)     \n",
    "    1. [First Submission](#11) \n",
    "1. [Selecting Models](#12)       \n",
    "    1. [Helper Functions to Try New Models](#13)      \n",
    "    1. [Split to the Small Data for Evaluating Models Fast](#14)     \n",
    "    1. [ML Models](#15)         \n",
    "        1. [XGBoost](#16)             \n",
    "            1. [Training](#17)"
   ],
   "id": "eb0198e64b0244cf"
  },
  {
   "metadata": {},
   "cell_type": "markdown",
   "source": [
    "<a id=\"1\"></a> <br>\n",
    "# 1. Notebook Preparation"
   ],
   "id": "6a0a16ecbe1f1913"
  },
  {
   "metadata": {},
   "cell_type": "markdown",
   "source": [
    "### Goal\n",
    "\n"
   ],
   "id": "c0373fb4d2cdc506"
  },
  {
   "metadata": {},
   "cell_type": "markdown",
   "source": [
    "<a id=\"2\"></a> <br>\n",
    "## 1.1 Libraries Installation"
   ],
   "id": "6375a86b049410aa"
  },
  {
   "metadata": {
    "ExecuteTime": {
     "end_time": "2024-05-27T00:20:02.030252Z",
     "start_time": "2024-05-27T00:20:01.266533Z"
    }
   },
   "cell_type": "code",
   "source": [
    "%%capture\n",
    "%pip install -r requirements.txt"
   ],
   "id": "2c80641cf9619b1e",
   "outputs": [],
   "execution_count": 2
  },
  {
   "metadata": {
    "ExecuteTime": {
     "end_time": "2024-05-27T00:20:02.044434Z",
     "start_time": "2024-05-27T00:20:02.031581Z"
    }
   },
   "cell_type": "code",
   "source": [
    "import pandas as pd\n",
    "import matplotlib.pyplot as plt\n",
    "import seaborn as sns\n",
    "import scipy.stats as stats\n",
    "import scikit_posthocs as sp"
   ],
   "id": "ae8181f1bb87cb26",
   "outputs": [],
   "execution_count": 3
  },
  {
   "metadata": {},
   "cell_type": "markdown",
   "source": [
    "<a id=\"3\"></a> <br>\n",
    "## 1.2 Data Retrieval"
   ],
   "id": "ced1bdd94c980465"
  },
  {
   "metadata": {
    "ExecuteTime": {
     "end_time": "2024-05-27T00:20:02.064335Z",
     "start_time": "2024-05-27T00:20:02.045026Z"
    }
   },
   "cell_type": "code",
   "source": "cookiecats = pd.read_csv('dataset/cookie_cats.csv')",
   "id": "2d9a39655a87048f",
   "outputs": [],
   "execution_count": 4
  },
  {
   "metadata": {
    "ExecuteTime": {
     "end_time": "2024-05-27T00:20:02.071183Z",
     "start_time": "2024-05-27T00:20:02.065419Z"
    }
   },
   "cell_type": "code",
   "source": "cookiecats.head()",
   "id": "a23e9ef8ebbf7cfe",
   "outputs": [
    {
     "data": {
      "text/plain": [
       "   userid  version  sum_gamerounds  retention_1  retention_7\n",
       "0     116  gate_30               3        False        False\n",
       "1     337  gate_30              38         True        False\n",
       "2     377  gate_40             165         True        False\n",
       "3     483  gate_40               1        False        False\n",
       "4     488  gate_40             179         True         True"
      ],
      "text/html": [
       "<div>\n",
       "<style scoped>\n",
       "    .dataframe tbody tr th:only-of-type {\n",
       "        vertical-align: middle;\n",
       "    }\n",
       "\n",
       "    .dataframe tbody tr th {\n",
       "        vertical-align: top;\n",
       "    }\n",
       "\n",
       "    .dataframe thead th {\n",
       "        text-align: right;\n",
       "    }\n",
       "</style>\n",
       "<table border=\"1\" class=\"dataframe\">\n",
       "  <thead>\n",
       "    <tr style=\"text-align: right;\">\n",
       "      <th></th>\n",
       "      <th>userid</th>\n",
       "      <th>version</th>\n",
       "      <th>sum_gamerounds</th>\n",
       "      <th>retention_1</th>\n",
       "      <th>retention_7</th>\n",
       "    </tr>\n",
       "  </thead>\n",
       "  <tbody>\n",
       "    <tr>\n",
       "      <th>0</th>\n",
       "      <td>116</td>\n",
       "      <td>gate_30</td>\n",
       "      <td>3</td>\n",
       "      <td>False</td>\n",
       "      <td>False</td>\n",
       "    </tr>\n",
       "    <tr>\n",
       "      <th>1</th>\n",
       "      <td>337</td>\n",
       "      <td>gate_30</td>\n",
       "      <td>38</td>\n",
       "      <td>True</td>\n",
       "      <td>False</td>\n",
       "    </tr>\n",
       "    <tr>\n",
       "      <th>2</th>\n",
       "      <td>377</td>\n",
       "      <td>gate_40</td>\n",
       "      <td>165</td>\n",
       "      <td>True</td>\n",
       "      <td>False</td>\n",
       "    </tr>\n",
       "    <tr>\n",
       "      <th>3</th>\n",
       "      <td>483</td>\n",
       "      <td>gate_40</td>\n",
       "      <td>1</td>\n",
       "      <td>False</td>\n",
       "      <td>False</td>\n",
       "    </tr>\n",
       "    <tr>\n",
       "      <th>4</th>\n",
       "      <td>488</td>\n",
       "      <td>gate_40</td>\n",
       "      <td>179</td>\n",
       "      <td>True</td>\n",
       "      <td>True</td>\n",
       "    </tr>\n",
       "  </tbody>\n",
       "</table>\n",
       "</div>"
      ]
     },
     "execution_count": 5,
     "metadata": {},
     "output_type": "execute_result"
    }
   ],
   "execution_count": 5
  },
  {
   "metadata": {
    "ExecuteTime": {
     "end_time": "2024-05-27T00:20:02.074210Z",
     "start_time": "2024-05-27T00:20:02.071903Z"
    }
   },
   "cell_type": "code",
   "source": "cookiecats.shape",
   "id": "519c5798781c2e48",
   "outputs": [
    {
     "data": {
      "text/plain": [
       "(90189, 5)"
      ]
     },
     "execution_count": 6,
     "metadata": {},
     "output_type": "execute_result"
    }
   ],
   "execution_count": 6
  },
  {
   "metadata": {
    "ExecuteTime": {
     "end_time": "2024-05-27T00:20:02.075948Z",
     "start_time": "2024-05-27T00:20:02.074799Z"
    }
   },
   "cell_type": "code",
   "source": "",
   "id": "b18e9865e9092a9e",
   "outputs": [],
   "execution_count": 6
  }
 ],
 "metadata": {
  "kernelspec": {
   "display_name": "Python 3",
   "language": "python",
   "name": "python3"
  },
  "language_info": {
   "codemirror_mode": {
    "name": "ipython",
    "version": 2
   },
   "file_extension": ".py",
   "mimetype": "text/x-python",
   "name": "python",
   "nbconvert_exporter": "python",
   "pygments_lexer": "ipython2",
   "version": "2.7.6"
  }
 },
 "nbformat": 4,
 "nbformat_minor": 5
}
