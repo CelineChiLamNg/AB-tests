{
 "cells": [
  {
   "metadata": {},
   "cell_type": "markdown",
   "source": [
    "<h1><center>Cookie Cats Mobile Games</center></h1>\n",
    "<center>May 2024</center>\n",
    "<center>Celine Ng</center>"
   ],
   "id": "15c1bba327ca2fbc"
  },
  {
   "metadata": {},
   "cell_type": "markdown",
   "source": [
    "<a id=\"0\"></a> <br>\n",
    "# Table of Contents\n",
    "\n",
    "1. [Project Introduction](#1)     \n",
    "    1. [Libraries Installation](#2) \n",
    "    1. [Data Retrieval](#3)\n",
    "    1. [Data Cleaning](#4)\n",
    "1. [EDA](#5) \n",
    "    1. [Separate by Gate Level](#6)\n",
    "        1. [Summary](#7)\n",
    "1. [Target Metrics](#8) \n",
    "1. [Calculations](#9)\n",
    "    1. [Statistical Tests](#10)\n",
    "        1. [Summary](#11)\n",
    "    1. [Confidence Interval](#12)\n",
    "    1. [Estimated Treatment Difference](#13)\n",
    "    1. [Decision](#14)\n",
    "1. [Improvements](#15)"
   ],
   "id": "eb0198e64b0244cf"
  },
  {
   "metadata": {},
   "cell_type": "markdown",
   "source": [
    "<a id=\"1\"></a> <br>\n",
    "# 1. Notebook Preparation"
   ],
   "id": "6a0a16ecbe1f1913"
  },
  {
   "metadata": {},
   "cell_type": "markdown",
   "source": [
    "### Goal\n",
    "\n",
    "When a player installed the game Cookie Cats, the player would be randomly <br>\n",
    "assigned to either gate_30 or gate_40. The dataset includes A/B test results\n",
    " of <br>\n",
    "the game when the first gate in the game was moved from level 30 to 40. <br>\n",
    "Apply A/B test to determine where should the Cookie Cats game locate its gate."
   ],
   "id": "c0373fb4d2cdc506"
  },
  {
   "metadata": {},
   "cell_type": "markdown",
   "source": [
    "<a id=\"2\"></a> <br>\n",
    "## 1.1 Libraries Installation"
   ],
   "id": "6375a86b049410aa"
  },
  {
   "metadata": {
    "ExecuteTime": {
     "end_time": "2024-06-02T11:47:11.909600Z",
     "start_time": "2024-06-02T11:47:10.960609Z"
    }
   },
   "cell_type": "code",
   "source": [
    "%%capture\n",
    "%pip install -r requirements.txt"
   ],
   "id": "2c80641cf9619b1e",
   "outputs": [],
   "execution_count": 2
  },
  {
   "metadata": {
    "ExecuteTime": {
     "end_time": "2024-06-02T11:47:11.926061Z",
     "start_time": "2024-06-02T11:47:11.911150Z"
    }
   },
   "cell_type": "code",
   "source": [
    "import pandas as pd\n",
    "import numpy as np\n",
    "import matplotlib.pyplot as plt\n",
    "import seaborn as sns\n",
    "import scipy.stats as stats\n",
    "import scikit_posthocs as sp\n",
    "from utils.plotting import *\n",
    "from scipy.stats import chi2_contingency\n",
    "from utils.statistics import *\n",
    "from scipy.stats import norm"
   ],
   "id": "ae8181f1bb87cb26",
   "outputs": [],
   "execution_count": 3
  },
  {
   "metadata": {},
   "cell_type": "markdown",
   "source": [
    "<a id=\"3\"></a> <br>\n",
    "## 1.2 Data Retrieval"
   ],
   "id": "ced1bdd94c980465"
  },
  {
   "metadata": {
    "ExecuteTime": {
     "end_time": "2024-06-02T11:47:11.952684Z",
     "start_time": "2024-06-02T11:47:11.926960Z"
    }
   },
   "cell_type": "code",
   "source": "cookiecats = pd.read_csv('dataset/cookie_cats.csv')",
   "id": "2d9a39655a87048f",
   "outputs": [],
   "execution_count": 4
  },
  {
   "metadata": {
    "ExecuteTime": {
     "end_time": "2024-06-02T11:47:11.964269Z",
     "start_time": "2024-06-02T11:47:11.954245Z"
    }
   },
   "cell_type": "code",
   "source": "cookiecats",
   "id": "a23e9ef8ebbf7cfe",
   "outputs": [
    {
     "data": {
      "text/plain": [
       "        userid  version  sum_gamerounds  retention_1  retention_7\n",
       "0          116  gate_30               3        False        False\n",
       "1          337  gate_30              38         True        False\n",
       "2          377  gate_40             165         True        False\n",
       "3          483  gate_40               1        False        False\n",
       "4          488  gate_40             179         True         True\n",
       "...        ...      ...             ...          ...          ...\n",
       "90184  9999441  gate_40              97         True        False\n",
       "90185  9999479  gate_40              30        False        False\n",
       "90186  9999710  gate_30              28         True        False\n",
       "90187  9999768  gate_40              51         True        False\n",
       "90188  9999861  gate_40              16        False        False\n",
       "\n",
       "[90189 rows x 5 columns]"
      ],
      "text/html": [
       "<div>\n",
       "<style scoped>\n",
       "    .dataframe tbody tr th:only-of-type {\n",
       "        vertical-align: middle;\n",
       "    }\n",
       "\n",
       "    .dataframe tbody tr th {\n",
       "        vertical-align: top;\n",
       "    }\n",
       "\n",
       "    .dataframe thead th {\n",
       "        text-align: right;\n",
       "    }\n",
       "</style>\n",
       "<table border=\"1\" class=\"dataframe\">\n",
       "  <thead>\n",
       "    <tr style=\"text-align: right;\">\n",
       "      <th></th>\n",
       "      <th>userid</th>\n",
       "      <th>version</th>\n",
       "      <th>sum_gamerounds</th>\n",
       "      <th>retention_1</th>\n",
       "      <th>retention_7</th>\n",
       "    </tr>\n",
       "  </thead>\n",
       "  <tbody>\n",
       "    <tr>\n",
       "      <th>0</th>\n",
       "      <td>116</td>\n",
       "      <td>gate_30</td>\n",
       "      <td>3</td>\n",
       "      <td>False</td>\n",
       "      <td>False</td>\n",
       "    </tr>\n",
       "    <tr>\n",
       "      <th>1</th>\n",
       "      <td>337</td>\n",
       "      <td>gate_30</td>\n",
       "      <td>38</td>\n",
       "      <td>True</td>\n",
       "      <td>False</td>\n",
       "    </tr>\n",
       "    <tr>\n",
       "      <th>2</th>\n",
       "      <td>377</td>\n",
       "      <td>gate_40</td>\n",
       "      <td>165</td>\n",
       "      <td>True</td>\n",
       "      <td>False</td>\n",
       "    </tr>\n",
       "    <tr>\n",
       "      <th>3</th>\n",
       "      <td>483</td>\n",
       "      <td>gate_40</td>\n",
       "      <td>1</td>\n",
       "      <td>False</td>\n",
       "      <td>False</td>\n",
       "    </tr>\n",
       "    <tr>\n",
       "      <th>4</th>\n",
       "      <td>488</td>\n",
       "      <td>gate_40</td>\n",
       "      <td>179</td>\n",
       "      <td>True</td>\n",
       "      <td>True</td>\n",
       "    </tr>\n",
       "    <tr>\n",
       "      <th>...</th>\n",
       "      <td>...</td>\n",
       "      <td>...</td>\n",
       "      <td>...</td>\n",
       "      <td>...</td>\n",
       "      <td>...</td>\n",
       "    </tr>\n",
       "    <tr>\n",
       "      <th>90184</th>\n",
       "      <td>9999441</td>\n",
       "      <td>gate_40</td>\n",
       "      <td>97</td>\n",
       "      <td>True</td>\n",
       "      <td>False</td>\n",
       "    </tr>\n",
       "    <tr>\n",
       "      <th>90185</th>\n",
       "      <td>9999479</td>\n",
       "      <td>gate_40</td>\n",
       "      <td>30</td>\n",
       "      <td>False</td>\n",
       "      <td>False</td>\n",
       "    </tr>\n",
       "    <tr>\n",
       "      <th>90186</th>\n",
       "      <td>9999710</td>\n",
       "      <td>gate_30</td>\n",
       "      <td>28</td>\n",
       "      <td>True</td>\n",
       "      <td>False</td>\n",
       "    </tr>\n",
       "    <tr>\n",
       "      <th>90187</th>\n",
       "      <td>9999768</td>\n",
       "      <td>gate_40</td>\n",
       "      <td>51</td>\n",
       "      <td>True</td>\n",
       "      <td>False</td>\n",
       "    </tr>\n",
       "    <tr>\n",
       "      <th>90188</th>\n",
       "      <td>9999861</td>\n",
       "      <td>gate_40</td>\n",
       "      <td>16</td>\n",
       "      <td>False</td>\n",
       "      <td>False</td>\n",
       "    </tr>\n",
       "  </tbody>\n",
       "</table>\n",
       "<p>90189 rows × 5 columns</p>\n",
       "</div>"
      ]
     },
     "execution_count": 5,
     "metadata": {},
     "output_type": "execute_result"
    }
   ],
   "execution_count": 5
  },
  {
   "metadata": {},
   "cell_type": "markdown",
   "source": [
    "**The variables are:** <br>\n",
    "1. userid - A unique number that identifies each player <br>\n",
    "2. version - Whether the player was put in the control group (gate_30 - a gate \n",
    "at <br>\n",
    " level 30) or the group with the moved gate (gate_40 - a gate at level 40) <br>\n",
    " 3. sum_gamerounds - the number of game rounds played by the player during the \n",
    " <br>\n",
    " first 14 days after install. <br>\n",
    " 4. retention_1 - Did the player come back and play 1 day after installing? \n",
    " <br>\n",
    " 5. retention_7 - Did the player come back and play 7 days after installing?"
   ],
   "id": "c00e93004c0f5fe"
  },
  {
   "metadata": {},
   "cell_type": "markdown",
   "source": [
    "<a id=\"4\"></a> <br>\n",
    "## 1.3 Data Cleaning"
   ],
   "id": "d0187825cf00a64"
  },
  {
   "metadata": {},
   "cell_type": "markdown",
   "source": "1. Check for missing values",
   "id": "36520c6785128901"
  },
  {
   "metadata": {
    "ExecuteTime": {
     "end_time": "2024-06-02T11:47:11.970861Z",
     "start_time": "2024-06-02T11:47:11.965341Z"
    }
   },
   "cell_type": "code",
   "source": "cookiecats.isna().any().any()",
   "id": "54dc21f2b3e0faf",
   "outputs": [
    {
     "data": {
      "text/plain": [
       "False"
      ]
     },
     "execution_count": 6,
     "metadata": {},
     "output_type": "execute_result"
    }
   ],
   "execution_count": 6
  },
  {
   "metadata": {},
   "cell_type": "markdown",
   "source": "2. Check for duplicates ",
   "id": "8a8a73bc601a5295"
  },
  {
   "metadata": {
    "ExecuteTime": {
     "end_time": "2024-06-02T11:47:11.983106Z",
     "start_time": "2024-06-02T11:47:11.971836Z"
    }
   },
   "cell_type": "code",
   "source": "cookiecats.duplicated().any()",
   "id": "965d005002441369",
   "outputs": [
    {
     "data": {
      "text/plain": [
       "False"
      ]
     },
     "execution_count": 7,
     "metadata": {},
     "output_type": "execute_result"
    }
   ],
   "execution_count": 7
  },
  {
   "metadata": {},
   "cell_type": "markdown",
   "source": [
    "<a id=\"5\"></a> <br>\n",
    "# 2. EDA"
   ],
   "id": "88a1c4363ee6fbbb"
  },
  {
   "metadata": {},
   "cell_type": "markdown",
   "source": "1. Rows and columns of our dataset",
   "id": "193bebb86ae164d7"
  },
  {
   "metadata": {
    "ExecuteTime": {
     "end_time": "2024-06-02T11:47:11.986973Z",
     "start_time": "2024-06-02T11:47:11.984131Z"
    }
   },
   "cell_type": "code",
   "source": "cookiecats.shape",
   "id": "df3aee993c8dd60c",
   "outputs": [
    {
     "data": {
      "text/plain": [
       "(90189, 5)"
      ]
     },
     "execution_count": 8,
     "metadata": {},
     "output_type": "execute_result"
    }
   ],
   "execution_count": 8
  },
  {
   "metadata": {},
   "cell_type": "markdown",
   "source": "2. Dataset descriptive statistics overview",
   "id": "cf52d79ea0047cb5"
  },
  {
   "metadata": {
    "ExecuteTime": {
     "end_time": "2024-06-02T11:47:11.998429Z",
     "start_time": "2024-06-02T11:47:11.987906Z"
    }
   },
   "cell_type": "code",
   "source": "cookiecats.describe()",
   "id": "b63ecac1a82cbb17",
   "outputs": [
    {
     "data": {
      "text/plain": [
       "             userid  sum_gamerounds\n",
       "count  9.018900e+04    90189.000000\n",
       "mean   4.998412e+06       51.872457\n",
       "std    2.883286e+06      195.050858\n",
       "min    1.160000e+02        0.000000\n",
       "25%    2.512230e+06        5.000000\n",
       "50%    4.995815e+06       16.000000\n",
       "75%    7.496452e+06       51.000000\n",
       "max    9.999861e+06    49854.000000"
      ],
      "text/html": [
       "<div>\n",
       "<style scoped>\n",
       "    .dataframe tbody tr th:only-of-type {\n",
       "        vertical-align: middle;\n",
       "    }\n",
       "\n",
       "    .dataframe tbody tr th {\n",
       "        vertical-align: top;\n",
       "    }\n",
       "\n",
       "    .dataframe thead th {\n",
       "        text-align: right;\n",
       "    }\n",
       "</style>\n",
       "<table border=\"1\" class=\"dataframe\">\n",
       "  <thead>\n",
       "    <tr style=\"text-align: right;\">\n",
       "      <th></th>\n",
       "      <th>userid</th>\n",
       "      <th>sum_gamerounds</th>\n",
       "    </tr>\n",
       "  </thead>\n",
       "  <tbody>\n",
       "    <tr>\n",
       "      <th>count</th>\n",
       "      <td>9.018900e+04</td>\n",
       "      <td>90189.000000</td>\n",
       "    </tr>\n",
       "    <tr>\n",
       "      <th>mean</th>\n",
       "      <td>4.998412e+06</td>\n",
       "      <td>51.872457</td>\n",
       "    </tr>\n",
       "    <tr>\n",
       "      <th>std</th>\n",
       "      <td>2.883286e+06</td>\n",
       "      <td>195.050858</td>\n",
       "    </tr>\n",
       "    <tr>\n",
       "      <th>min</th>\n",
       "      <td>1.160000e+02</td>\n",
       "      <td>0.000000</td>\n",
       "    </tr>\n",
       "    <tr>\n",
       "      <th>25%</th>\n",
       "      <td>2.512230e+06</td>\n",
       "      <td>5.000000</td>\n",
       "    </tr>\n",
       "    <tr>\n",
       "      <th>50%</th>\n",
       "      <td>4.995815e+06</td>\n",
       "      <td>16.000000</td>\n",
       "    </tr>\n",
       "    <tr>\n",
       "      <th>75%</th>\n",
       "      <td>7.496452e+06</td>\n",
       "      <td>51.000000</td>\n",
       "    </tr>\n",
       "    <tr>\n",
       "      <th>max</th>\n",
       "      <td>9.999861e+06</td>\n",
       "      <td>49854.000000</td>\n",
       "    </tr>\n",
       "  </tbody>\n",
       "</table>\n",
       "</div>"
      ]
     },
     "execution_count": 9,
     "metadata": {},
     "output_type": "execute_result"
    }
   ],
   "execution_count": 9
  },
  {
   "metadata": {},
   "cell_type": "markdown",
   "source": "3. Sample size for each gate",
   "id": "52208457f320a9e8"
  },
  {
   "metadata": {
    "ExecuteTime": {
     "end_time": "2024-06-02T11:47:12.005191Z",
     "start_time": "2024-06-02T11:47:11.999540Z"
    }
   },
   "cell_type": "code",
   "source": [
    "sample_size = cookiecats.version.value_counts()\n",
    "sample_size"
   ],
   "id": "c101a67971b62be7",
   "outputs": [
    {
     "data": {
      "text/plain": [
       "version\n",
       "gate_40    45489\n",
       "gate_30    44700\n",
       "Name: count, dtype: int64"
      ]
     },
     "execution_count": 10,
     "metadata": {},
     "output_type": "execute_result"
    }
   ],
   "execution_count": 10
  },
  {
   "metadata": {},
   "cell_type": "markdown",
   "source": "The sample sizes are similar.",
   "id": "958db4c2c9bd160e"
  },
  {
   "metadata": {},
   "cell_type": "markdown",
   "source": "4. Are userid repeated?",
   "id": "1586b0246267d37c"
  },
  {
   "metadata": {
    "ExecuteTime": {
     "end_time": "2024-06-02T11:47:12.011485Z",
     "start_time": "2024-06-02T11:47:12.007493Z"
    }
   },
   "cell_type": "code",
   "source": "cookiecats.userid.nunique()",
   "id": "bb04fd33db06e074",
   "outputs": [
    {
     "data": {
      "text/plain": [
       "90189"
      ]
     },
     "execution_count": 11,
     "metadata": {},
     "output_type": "execute_result"
    }
   ],
   "execution_count": 11
  },
  {
   "metadata": {},
   "cell_type": "markdown",
   "source": "No users were repeated.",
   "id": "3d7b80529f472c0"
  },
  {
   "metadata": {},
   "cell_type": "markdown",
   "source": [
    "<a id=\"6\"></a> <br>\n",
    "## 2.1 Separate by Gate Level\n",
    "\n",
    "Objective: <br>\n",
    "To better define our target metric and properly pick the correct statistical\n",
    " <br>\n",
    "tests, it is essential to first understand the features, and their <br>\n",
    "relationships with different gates."
   ],
   "id": "b5e6fa4e46d5c5dc"
  },
  {
   "metadata": {},
   "cell_type": "markdown",
   "source": "**Sum Game Rounds**",
   "id": "3486f7f9b463f488"
  },
  {
   "metadata": {
    "ExecuteTime": {
     "end_time": "2024-06-02T11:47:12.333074Z",
     "start_time": "2024-06-02T11:47:12.012584Z"
    }
   },
   "cell_type": "code",
   "source": [
    "plt.figure(figsize=(10, 4))\n",
    "sns.boxplot(data=cookiecats, x='sum_gamerounds', hue='version')\n",
    "sns.despine(top=True, right=True, left=False, bottom=False)\n",
    "plt.xlim(0, 200)\n",
    "plt.xlabel('sum_gamerounds')\n",
    "plt.title('Number of Rounds Played during the First 14 Days', pad=15)\n",
    "plt.show()"
   ],
   "id": "f21b46b80feb48d9",
   "outputs": [
    {
     "data": {
      "text/plain": [
       "<Figure size 1000x400 with 1 Axes>"
      ],
      "image/png": "[encoded data removed]"
     },
     "metadata": {},
     "output_type": "display_data"
    }
   ],
   "execution_count": 12
  },
  {
   "metadata": {
    "ExecuteTime": {
     "end_time": "2024-06-02T11:47:12.355172Z",
     "start_time": "2024-06-02T11:47:12.335556Z"
    }
   },
   "cell_type": "code",
   "source": "cookiecats.groupby(['version']).describe()['sum_gamerounds']",
   "id": "cb1219e7aa8a5ffd",
   "outputs": [
    {
     "data": {
      "text/plain": [
       "           count       mean         std  min  25%   50%   75%      max\n",
       "version                                                               \n",
       "gate_30  44700.0  52.456264  256.716423  0.0  5.0  17.0  50.0  49854.0\n",
       "gate_40  45489.0  51.298776  103.294416  0.0  5.0  16.0  52.0   2640.0"
      ],
      "text/html": [
       "<div>\n",
       "<style scoped>\n",
       "    .dataframe tbody tr th:only-of-type {\n",
       "        vertical-align: middle;\n",
       "    }\n",
       "\n",
       "    .dataframe tbody tr th {\n",
       "        vertical-align: top;\n",
       "    }\n",
       "\n",
       "    .dataframe thead th {\n",
       "        text-align: right;\n",
       "    }\n",
       "</style>\n",
       "<table border=\"1\" class=\"dataframe\">\n",
       "  <thead>\n",
       "    <tr style=\"text-align: right;\">\n",
       "      <th></th>\n",
       "      <th>count</th>\n",
       "      <th>mean</th>\n",
       "      <th>std</th>\n",
       "      <th>min</th>\n",
       "      <th>25%</th>\n",
       "      <th>50%</th>\n",
       "      <th>75%</th>\n",
       "      <th>max</th>\n",
       "    </tr>\n",
       "    <tr>\n",
       "      <th>version</th>\n",
       "      <th></th>\n",
       "      <th></th>\n",
       "      <th></th>\n",
       "      <th></th>\n",
       "      <th></th>\n",
       "      <th></th>\n",
       "      <th></th>\n",
       "      <th></th>\n",
       "    </tr>\n",
       "  </thead>\n",
       "  <tbody>\n",
       "    <tr>\n",
       "      <th>gate_30</th>\n",
       "      <td>44700.0</td>\n",
       "      <td>52.456264</td>\n",
       "      <td>256.716423</td>\n",
       "      <td>0.0</td>\n",
       "      <td>5.0</td>\n",
       "      <td>17.0</td>\n",
       "      <td>50.0</td>\n",
       "      <td>49854.0</td>\n",
       "    </tr>\n",
       "    <tr>\n",
       "      <th>gate_40</th>\n",
       "      <td>45489.0</td>\n",
       "      <td>51.298776</td>\n",
       "      <td>103.294416</td>\n",
       "      <td>0.0</td>\n",
       "      <td>5.0</td>\n",
       "      <td>16.0</td>\n",
       "      <td>52.0</td>\n",
       "      <td>2640.0</td>\n",
       "    </tr>\n",
       "  </tbody>\n",
       "</table>\n",
       "</div>"
      ]
     },
     "execution_count": 13,
     "metadata": {},
     "output_type": "execute_result"
    }
   ],
   "execution_count": 13
  },
  {
   "metadata": {},
   "cell_type": "markdown",
   "source": "How many total sum game rounds did each have?",
   "id": "998ec6845eb8d84a"
  },
  {
   "metadata": {
    "ExecuteTime": {
     "end_time": "2024-06-02T11:47:12.379322Z",
     "start_time": "2024-06-02T11:47:12.358360Z"
    }
   },
   "cell_type": "code",
   "source": "cookiecats.groupby(['version'])['sum_gamerounds'].sum()",
   "id": "ae37d89e855a758e",
   "outputs": [
    {
     "data": {
      "text/plain": [
       "version\n",
       "gate_30    2344795\n",
       "gate_40    2333530\n",
       "Name: sum_gamerounds, dtype: int64"
      ]
     },
     "execution_count": 14,
     "metadata": {},
     "output_type": "execute_result"
    }
   ],
   "execution_count": 14
  },
  {
   "metadata": {},
   "cell_type": "markdown",
   "source": "**Retention 1 and 7**",
   "id": "6279fa93816ad1ac"
  },
  {
   "metadata": {
    "ExecuteTime": {
     "end_time": "2024-06-02T11:47:12.462460Z",
     "start_time": "2024-06-02T11:47:12.381620Z"
    }
   },
   "cell_type": "code",
   "source": [
    "stacked_bar_plot(cookiecats, col='version', hue='retention_1', \n",
    "                 title='Retention Count after 1 Day')"
   ],
   "id": "de9c79adbf20feb7",
   "outputs": [
    {
     "data": {
      "text/plain": [
       "<Figure size 640x480 with 1 Axes>"
      ],
      "image/png": "[encoded data removed]"
     },
     "metadata": {},
     "output_type": "display_data"
    }
   ],
   "execution_count": 15
  },
  {
   "metadata": {
    "ExecuteTime": {
     "end_time": "2024-06-02T11:47:12.528308Z",
     "start_time": "2024-06-02T11:47:12.463902Z"
    }
   },
   "cell_type": "code",
   "source": [
    "stacked_bar_plot(cookiecats, col='version', hue='retention_7', \n",
    "                 title='Retention Count after 7 Days')"
   ],
   "id": "95fb1ca47abf0014",
   "outputs": [
    {
     "data": {
      "text/plain": [
       "<Figure size 640x480 with 1 Axes>"
      ],
      "image/png": "[encoded data removed]"
     },
     "metadata": {},
     "output_type": "display_data"
    }
   ],
   "execution_count": 16
  },
  {
   "metadata": {},
   "cell_type": "markdown",
   "source": "Calculate Retention Rate",
   "id": "39b851aa26eadd82"
  },
  {
   "metadata": {
    "ExecuteTime": {
     "end_time": "2024-06-02T11:47:12.543261Z",
     "start_time": "2024-06-02T11:47:12.529758Z"
    }
   },
   "cell_type": "code",
   "source": [
    "retention_rates = cookiecats.groupby('version').agg({\n",
    "    'userid': 'count',\n",
    "    'retention_1': 'mean',\n",
    "    'retention_7': 'mean'\n",
    "})\n",
    "retention_rates['retention_1'] = retention_rates['retention_1'] * 100\n",
    "retention_rates['retention_7'] = retention_rates['retention_7'] * 100\n",
    "\n",
    "retention_rates.columns = ['userid', 'retention_1 (%)', 'retention_7 (%)']\n",
    "retention_rates\n"
   ],
   "id": "1d37e45a59165597",
   "outputs": [
    {
     "data": {
      "text/plain": [
       "         userid  retention_1 (%)  retention_7 (%)\n",
       "version                                          \n",
       "gate_30   44700        44.818792        19.020134\n",
       "gate_40   45489        44.228275        18.200004"
      ],
      "text/html": [
       "<div>\n",
       "<style scoped>\n",
       "    .dataframe tbody tr th:only-of-type {\n",
       "        vertical-align: middle;\n",
       "    }\n",
       "\n",
       "    .dataframe tbody tr th {\n",
       "        vertical-align: top;\n",
       "    }\n",
       "\n",
       "    .dataframe thead th {\n",
       "        text-align: right;\n",
       "    }\n",
       "</style>\n",
       "<table border=\"1\" class=\"dataframe\">\n",
       "  <thead>\n",
       "    <tr style=\"text-align: right;\">\n",
       "      <th></th>\n",
       "      <th>userid</th>\n",
       "      <th>retention_1 (%)</th>\n",
       "      <th>retention_7 (%)</th>\n",
       "    </tr>\n",
       "    <tr>\n",
       "      <th>version</th>\n",
       "      <th></th>\n",
       "      <th></th>\n",
       "      <th></th>\n",
       "    </tr>\n",
       "  </thead>\n",
       "  <tbody>\n",
       "    <tr>\n",
       "      <th>gate_30</th>\n",
       "      <td>44700</td>\n",
       "      <td>44.818792</td>\n",
       "      <td>19.020134</td>\n",
       "    </tr>\n",
       "    <tr>\n",
       "      <th>gate_40</th>\n",
       "      <td>45489</td>\n",
       "      <td>44.228275</td>\n",
       "      <td>18.200004</td>\n",
       "    </tr>\n",
       "  </tbody>\n",
       "</table>\n",
       "</div>"
      ]
     },
     "execution_count": 17,
     "metadata": {},
     "output_type": "execute_result"
    }
   ],
   "execution_count": 17
  },
  {
   "metadata": {},
   "cell_type": "markdown",
   "source": [
    "<a id=\"7\"></a> <br>\n",
    "### 2.1.1 Summary"
   ],
   "id": "2939a9f086398bac"
  },
  {
   "metadata": {},
   "cell_type": "markdown",
   "source": [
    "1. The average number of game rounds played, by the player during the first \n",
    "14 <br>\n",
    "days after installation, was similar for both versions of the game. But the \n",
    "<br>\n",
    "standard deviation for version gate_30 was almost double of version gate_40.\n",
    "  <br>\n",
    "2. For both versions, retentions rates on day 1 and 7 are similar, though the \n",
    "<br>\n",
    "difference is larger after 7 days."
   ],
   "id": "bf2dc732da0c94bb"
  },
  {
   "metadata": {},
   "cell_type": "markdown",
   "source": [
    "<a id=\"8\"></a> <br>\n",
    "# 3. Target Metric"
   ],
   "id": "7ddcccf6576663a5"
  },
  {
   "metadata": {},
   "cell_type": "markdown",
   "source": [
    "Since 'sum_gamerounds' had similar means for both versions but the standard \n",
    "<br>\n",
    "deviation was large, this feature is likely to not have enough sensitivity <br>\n",
    "to give us clear results. <br>\n",
    " Instead, analyzing the retentions might be more powerful. <br>"
   ],
   "id": "6ff06d9c23ab393f"
  },
  {
   "metadata": {},
   "cell_type": "markdown",
   "source": [
    "**Target Metric**\n",
    "Identify if version gate_30 indeed does have a higher 7 days retention rate.\n",
    " <br>\n",
    "This metric indicates the lasting appeal of the game, as it is a longer term <br>\n",
    "retention."
   ],
   "id": "9334145f8ec305c6"
  },
  {
   "metadata": {},
   "cell_type": "markdown",
   "source": [
    "<a id=\"9\"></a> <br>\n",
    "# 4. Calculations\n",
    "\n",
    "Objectives: <br>\n",
    "1. Decide on the best suited statistical tests for our target metric.\n",
    "2. Sanity check.\n",
    "2. Conduct statistical tests.\n",
    "3. Report confidence interval and p-value."
   ],
   "id": "39f02398a34554da"
  },
  {
   "metadata": {},
   "cell_type": "markdown",
   "source": [
    "For this target metric, Chi Square test will be used as our data is <br>\n",
    "categorical, and it will detect if the retention rate is different between <br>\n",
    "the 2 versions. <br>\n",
    "For all the statistical tests, the significance level we are interested in \n",
    " <br>\n",
    " is 0.05."
   ],
   "id": "e5a234f6e9848dff"
  },
  {
   "metadata": {},
   "cell_type": "markdown",
   "source": [
    "<a id=\"10\"></a> <br>\n",
    "## 4.1 Statistical Test"
   ],
   "id": "6b183e88e1dce974"
  },
  {
   "metadata": {},
   "cell_type": "markdown",
   "source": [
    "### Chi Square Test\n",
    "\n",
    "**Assumption Checking** <br>\n",
    "1. Data consists of 2 categorical and independent variables\n",
    "2. There are 2 groups within each variable\n",
    "\n",
    "\n",
    "**Null Hypothesis (H0):**<br>\n",
    "There is no difference in the 7 days retention rates between version gate_30\n",
    " and version gate_40. <br>\n",
    "\n",
    "**Alternative Hypothesis (H1):**<br>\n",
    "There is a difference in the 7 days retention rates between version gate_30\n",
    " and version gate_40. <br>"
   ],
   "id": "6b8bc5a297130fac"
  },
  {
   "metadata": {
    "ExecuteTime": {
     "end_time": "2024-06-02T11:47:12.563478Z",
     "start_time": "2024-06-02T11:47:12.544582Z"
    }
   },
   "cell_type": "code",
   "source": [
    "contingency_table = pd.crosstab(cookiecats['version'], \n",
    "                                cookiecats['retention_7'])\n",
    "chi2, p_value, dof, expected = chi2_contingency(contingency_table)\n",
    "print(f\"Chi-Square Statistic: {chi2}\")\n",
    "print(f\"P-value: {p_value}\")\n",
    "print(f\"Degrees of Freedom: {dof}\")\n",
    "print(\"Expected Frequencies:\")\n",
    "print(expected)"
   ],
   "id": "ce35b19afa4deefb",
   "outputs": [
    {
     "name": "stdout",
     "output_type": "stream",
     "text": [
      "Chi-Square Statistic: 9.959086799559167\n",
      "P-value: 0.00160057426790583\n",
      "Degrees of Freedom: 1\n",
      "Expected Frequencies:\n",
      "[[36382.90257127  8317.09742873]\n",
      " [37025.09742873  8463.90257127]]\n"
     ]
    }
   ],
   "execution_count": 18
  },
  {
   "metadata": {},
   "cell_type": "markdown",
   "source": [
    "<a id=\"11\"></a> <br>\n",
    "### 4.1.1 Summary"
   ],
   "id": "e322fc76076b9a9"
  },
  {
   "metadata": {},
   "cell_type": "markdown",
   "source": [
    "P-value is lower than our significance level (0.05), so the null hypothesis \n",
    "<br>\n",
    "is rejected and there is a statistically significant difference between the \n",
    "<br>\n",
    "2 versions of Cookie Cats. <br>\n",
    "With previously calculated retention rate, it is clear that the version <br>\n",
    "gate_30 has a higher retention rate than gate_40. "
   ],
   "id": "83ec91248131cc40"
  },
  {
   "metadata": {},
   "cell_type": "markdown",
   "source": [
    "<a id=\"12\"></a> <br>\n",
    "## 4.2 Confidence Interval\n",
    "Objective: Determine confidence interval for our population proportions"
   ],
   "id": "a70cb623d172e888"
  },
  {
   "metadata": {
    "ExecuteTime": {
     "end_time": "2024-06-02T11:47:13.405870Z",
     "start_time": "2024-06-02T11:47:12.564897Z"
    }
   },
   "cell_type": "code",
   "source": [
    "cookiecats['retention_7'] = cookiecats['retention_7'].astype(int)\n",
    "versions = ['gate_30', 'gate_40']\n",
    "ci_results = [ci_bootstrap(data=cookiecats[cookiecats['version'] == \n",
    "                                            version]['retention_7']) for \n",
    "              version in versions]\n",
    "ci_df_bootstrap = pd.DataFrame(ci_results, columns=['Mean', 'CI Lower', 'CI Upper'])\n",
    "ci_df_bootstrap['Version'] = ['Gate 30', 'Gate 40']\n",
    "ci_df_bootstrap = ci_df_bootstrap[['Version', 'Mean', 'CI Lower', 'CI Upper']]\n",
    "ci_df_bootstrap"
   ],
   "id": "ef622f9a8c8ac8d7",
   "outputs": [
    {
     "data": {
      "text/plain": [
       "   Version      Mean  CI Lower  CI Upper\n",
       "0  Gate 30  0.190190  0.186488  0.193714\n",
       "1  Gate 40  0.182007  0.178504  0.185496"
      ],
      "text/html": [
       "<div>\n",
       "<style scoped>\n",
       "    .dataframe tbody tr th:only-of-type {\n",
       "        vertical-align: middle;\n",
       "    }\n",
       "\n",
       "    .dataframe tbody tr th {\n",
       "        vertical-align: top;\n",
       "    }\n",
       "\n",
       "    .dataframe thead th {\n",
       "        text-align: right;\n",
       "    }\n",
       "</style>\n",
       "<table border=\"1\" class=\"dataframe\">\n",
       "  <thead>\n",
       "    <tr style=\"text-align: right;\">\n",
       "      <th></th>\n",
       "      <th>Version</th>\n",
       "      <th>Mean</th>\n",
       "      <th>CI Lower</th>\n",
       "      <th>CI Upper</th>\n",
       "    </tr>\n",
       "  </thead>\n",
       "  <tbody>\n",
       "    <tr>\n",
       "      <th>0</th>\n",
       "      <td>Gate 30</td>\n",
       "      <td>0.190190</td>\n",
       "      <td>0.186488</td>\n",
       "      <td>0.193714</td>\n",
       "    </tr>\n",
       "    <tr>\n",
       "      <th>1</th>\n",
       "      <td>Gate 40</td>\n",
       "      <td>0.182007</td>\n",
       "      <td>0.178504</td>\n",
       "      <td>0.185496</td>\n",
       "    </tr>\n",
       "  </tbody>\n",
       "</table>\n",
       "</div>"
      ]
     },
     "execution_count": 19,
     "metadata": {},
     "output_type": "execute_result"
    }
   ],
   "execution_count": 19
  },
  {
   "metadata": {
    "ExecuteTime": {
     "end_time": "2024-06-02T11:47:13.476829Z",
     "start_time": "2024-06-02T11:47:13.406561Z"
    }
   },
   "cell_type": "code",
   "source": [
    "versions = ['Gate 30', 'Gate 40']\n",
    "means = [0.190191, 0.181977]\n",
    "ci_lowers = [0.186688, 0.178437]\n",
    "ci_uppers = [0.193827, 0.185629]\n",
    "\n",
    "errors = [[means[i] - ci_lowers[i] for i in range(len(means))],\n",
    "          [ci_uppers[i] - means[i] for i in range(len(means))]]\n",
    "\n",
    "\n",
    "fig, ax = plt.subplots(figsize=(10, 6))\n",
    "ax.bar(versions, means, yerr=errors, color=['blue', 'green'], capsize=5)\n",
    "ax.set_xlabel('Version')\n",
    "ax.set_ylabel('7 Day Retention Rate')\n",
    "ax.set_title('7 Day Retention Rates for Gate_30 vs Gate_40\\nwith Confidence '\n",
    "             'Intervals')\n",
    "\n",
    "plt.show()"
   ],
   "id": "e54acec99d322fb2",
   "outputs": [
    {
     "data": {
      "text/plain": [
       "<Figure size 1000x600 with 1 Axes>"
      ],
      "image/png": "[encoded data removed]"
     },
     "metadata": {},
     "output_type": "display_data"
    }
   ],
   "execution_count": 20
  },
  {
   "metadata": {},
   "cell_type": "markdown",
   "source": [
    "<a id=\"13\"></a> <br>\n",
    "## 4.3 Estimated Treatment Difference\n",
    "Objective: Estimate the difference between proportions with confidence"
   ],
   "id": "c16f93f6cb7561fc"
  },
  {
   "metadata": {
    "ExecuteTime": {
     "end_time": "2024-06-02T11:47:13.484356Z",
     "start_time": "2024-06-02T11:47:13.478758Z"
    }
   },
   "cell_type": "code",
   "source": "retention_rates",
   "id": "7403582fe17ddb19",
   "outputs": [
    {
     "data": {
      "text/plain": [
       "         userid  retention_1 (%)  retention_7 (%)\n",
       "version                                          \n",
       "gate_30   44700        44.818792        19.020134\n",
       "gate_40   45489        44.228275        18.200004"
      ],
      "text/html": [
       "<div>\n",
       "<style scoped>\n",
       "    .dataframe tbody tr th:only-of-type {\n",
       "        vertical-align: middle;\n",
       "    }\n",
       "\n",
       "    .dataframe tbody tr th {\n",
       "        vertical-align: top;\n",
       "    }\n",
       "\n",
       "    .dataframe thead th {\n",
       "        text-align: right;\n",
       "    }\n",
       "</style>\n",
       "<table border=\"1\" class=\"dataframe\">\n",
       "  <thead>\n",
       "    <tr style=\"text-align: right;\">\n",
       "      <th></th>\n",
       "      <th>userid</th>\n",
       "      <th>retention_1 (%)</th>\n",
       "      <th>retention_7 (%)</th>\n",
       "    </tr>\n",
       "    <tr>\n",
       "      <th>version</th>\n",
       "      <th></th>\n",
       "      <th></th>\n",
       "      <th></th>\n",
       "    </tr>\n",
       "  </thead>\n",
       "  <tbody>\n",
       "    <tr>\n",
       "      <th>gate_30</th>\n",
       "      <td>44700</td>\n",
       "      <td>44.818792</td>\n",
       "      <td>19.020134</td>\n",
       "    </tr>\n",
       "    <tr>\n",
       "      <th>gate_40</th>\n",
       "      <td>45489</td>\n",
       "      <td>44.228275</td>\n",
       "      <td>18.200004</td>\n",
       "    </tr>\n",
       "  </tbody>\n",
       "</table>\n",
       "</div>"
      ]
     },
     "execution_count": 21,
     "metadata": {},
     "output_type": "execute_result"
    }
   ],
   "execution_count": 21
  },
  {
   "metadata": {
    "ExecuteTime": {
     "end_time": "2024-06-02T11:47:13.491043Z",
     "start_time": "2024-06-02T11:47:13.485495Z"
    }
   },
   "cell_type": "code",
   "source": [
    "n1 = retention_rates.iloc[0, 0]\n",
    "p1 = retention_rates.iloc[0, 2]/100\n",
    "n2 = retention_rates.iloc[1, 0]\n",
    "p2 = retention_rates.iloc[1, 2]/100\n",
    "\n",
    "SE = np.sqrt((p1 * (1 - p1) / n1) + (p2 * (1 - p2) / n2))\n",
    "z_score = norm.ppf(0.975)\n",
    "margin_of_error = z_score * SE\n",
    "\n",
    "ci_lower = (p1 - p2) - margin_of_error\n",
    "ci_upper = (p1 - p2) + margin_of_error\n",
    "\n",
    "print(\"Estimated difference in 7-day retention rates(Gate 30 - \"\n",
    "      \"Gate 40):\", p1 - p2)\n",
    "print(\"95% Confidence Interval for the difference:\", (ci_lower, \n",
    "                                                            ci_upper))"
   ],
   "id": "99b108f1e1cfaf68",
   "outputs": [
    {
     "name": "stdout",
     "output_type": "stream",
     "text": [
      "Estimated difference in 7-day retention rates(Gate 30 - Gate 40): 0.008201298315205913\n",
      "95% Confidence Interval for the difference: (0.0031210442115262808, 0.013281552418885545)\n"
     ]
    }
   ],
   "execution_count": 22
  },
  {
   "metadata": {
    "ExecuteTime": {
     "end_time": "2024-06-02T11:47:13.496935Z",
     "start_time": "2024-06-02T11:47:13.494024Z"
    }
   },
   "cell_type": "code",
   "source": "z_score",
   "id": "aa8ceff214495210",
   "outputs": [
    {
     "data": {
      "text/plain": [
       "1.959963984540054"
      ]
     },
     "execution_count": 23,
     "metadata": {},
     "output_type": "execute_result"
    }
   ],
   "execution_count": 23
  },
  {
   "metadata": {},
   "cell_type": "markdown",
   "source": [
    "<a id=\"14\"></a> <br>\n",
    "## 4.4 Decision"
   ],
   "id": "5a3703483e77a2f6"
  },
  {
   "metadata": {},
   "cell_type": "markdown",
   "source": [
    "After calculating the confidence intervals, it is clear that the 7 day <br>\n",
    "retention rates for the 2 versions of the game do not overlap, with a 95% <br>\n",
    "confidence level. Also, with p-value under 0.05, we can safely conclude that\n",
    " <br>\n",
    " 7 day retention is higher when the gate is located at level 30. "
   ],
   "id": "458b87de7334087f"
  },
  {
   "metadata": {},
   "cell_type": "markdown",
   "source": [
    "<a id=\"15\"></a> <br>\n",
    "# 5. Improvements"
   ],
   "id": "4d8a26f98d893b8"
  },
  {
   "metadata": {},
   "cell_type": "markdown",
   "source": [
    "1. Add another target metric, such as the difference between retention <br>\n",
    "rates of day 1 and 7.\n"
   ],
   "id": "4eab6f69222fe264"
  },
  {
   "metadata": {},
   "cell_type": "markdown",
   "source": "",
   "id": "df3ac68858397863"
  }
 ],
 "metadata": {
  "kernelspec": {
   "display_name": "Python 3",
   "language": "python",
   "name": "python3"
  },
  "language_info": {
   "codemirror_mode": {
    "name": "ipython",
    "version": 2
   },
   "file_extension": ".py",
   "mimetype": "text/x-python",
   "name": "python",
   "nbconvert_exporter": "python",
   "pygments_lexer": "ipython2",
   "version": "2.7.6"
  }
 },
 "nbformat": 4,
 "nbformat_minor": 5
}
